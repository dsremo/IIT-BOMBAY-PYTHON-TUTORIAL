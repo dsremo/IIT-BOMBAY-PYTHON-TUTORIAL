{
 "cells": [
  {
   "cell_type": "markdown",
   "metadata": {},
   "source": [
    "# Video 15"
   ]
  },
  {
   "cell_type": "code",
   "execution_count": 14,
   "metadata": {},
   "outputs": [],
   "source": [
    "import pylab\n",
    "#help('open')"
   ]
  },
  {
   "cell_type": "code",
   "execution_count": 15,
   "metadata": {},
   "outputs": [],
   "source": [
    "f = open(\"pendulum.txt\")"
   ]
  },
  {
   "cell_type": "code",
   "execution_count": 16,
   "metadata": {},
   "outputs": [
    {
     "data": {
      "text/plain": [
       "<_io.TextIOWrapper name='pendulum.txt' mode='r' encoding='cp1252'>"
      ]
     },
     "execution_count": 16,
     "metadata": {},
     "output_type": "execute_result"
    }
   ],
   "source": [
    "f"
   ]
  },
  {
   "cell_type": "code",
   "execution_count": 17,
   "metadata": {},
   "outputs": [],
   "source": [
    "pend = f.read()"
   ]
  },
  {
   "cell_type": "code",
   "execution_count": 18,
   "metadata": {},
   "outputs": [
    {
     "name": "stdout",
     "output_type": "stream",
     "text": [
      "1.0000e-01 6.9004e-01\n",
      "1.1000e-01 6.9497e-01\n",
      "1.2000e-01 7.4252e-01\n",
      "1.3000e-01 7.5360e-01\n",
      "1.4000e-01 8.3568e-01\n",
      "1.5000e-01 8.6789e-01\n",
      "1.6000e-01 8.4182e-01\n",
      "1.7000e-01 8.5379e-01\n",
      "1.8000e-01 8.5762e-01\n",
      "1.9000e-01 8.8390e-01\n",
      "\n"
     ]
    }
   ],
   "source": [
    "print(pend)"
   ]
  },
  {
   "cell_type": "code",
   "execution_count": 19,
   "metadata": {},
   "outputs": [
    {
     "data": {
      "text/plain": [
       "'1.0000e-01 6.9004e-01\\n1.1000e-01 6.9497e-01\\n1.2000e-01 7.4252e-01\\n1.3000e-01 7.5360e-01\\n1.4000e-01 8.3568e-01\\n1.5000e-01 8.6789e-01\\n1.6000e-01 8.4182e-01\\n1.7000e-01 8.5379e-01\\n1.8000e-01 8.5762e-01\\n1.9000e-01 8.8390e-01\\n'"
      ]
     },
     "execution_count": 19,
     "metadata": {},
     "output_type": "execute_result"
    }
   ],
   "source": [
    "pend"
   ]
  },
  {
   "cell_type": "code",
   "execution_count": 20,
   "metadata": {},
   "outputs": [],
   "source": [
    "pend_list = pend.splitlines()"
   ]
  },
  {
   "cell_type": "code",
   "execution_count": 21,
   "metadata": {},
   "outputs": [
    {
     "data": {
      "text/plain": [
       "['1.0000e-01 6.9004e-01',\n",
       " '1.1000e-01 6.9497e-01',\n",
       " '1.2000e-01 7.4252e-01',\n",
       " '1.3000e-01 7.5360e-01',\n",
       " '1.4000e-01 8.3568e-01',\n",
       " '1.5000e-01 8.6789e-01',\n",
       " '1.6000e-01 8.4182e-01',\n",
       " '1.7000e-01 8.5379e-01',\n",
       " '1.8000e-01 8.5762e-01',\n",
       " '1.9000e-01 8.8390e-01']"
      ]
     },
     "execution_count": 21,
     "metadata": {},
     "output_type": "execute_result"
    }
   ],
   "source": [
    "pend_list"
   ]
  },
  {
   "cell_type": "code",
   "execution_count": 22,
   "metadata": {},
   "outputs": [],
   "source": [
    "f.close()"
   ]
  },
  {
   "cell_type": "code",
   "execution_count": 23,
   "metadata": {},
   "outputs": [],
   "source": [
    "f= open('pendulum.txt')"
   ]
  },
  {
   "cell_type": "code",
   "execution_count": 24,
   "metadata": {},
   "outputs": [
    {
     "name": "stdout",
     "output_type": "stream",
     "text": [
      "1.0000e-01 6.9004e-01\n",
      "\n",
      "1.1000e-01 6.9497e-01\n",
      "\n",
      "1.2000e-01 7.4252e-01\n",
      "\n",
      "1.3000e-01 7.5360e-01\n",
      "\n",
      "1.4000e-01 8.3568e-01\n",
      "\n",
      "1.5000e-01 8.6789e-01\n",
      "\n",
      "1.6000e-01 8.4182e-01\n",
      "\n",
      "1.7000e-01 8.5379e-01\n",
      "\n",
      "1.8000e-01 8.5762e-01\n",
      "\n",
      "1.9000e-01 8.8390e-01\n",
      "\n"
     ]
    }
   ],
   "source": [
    "for line in f:\n",
    "    print(line)"
   ]
  },
  {
   "cell_type": "code",
   "execution_count": 25,
   "metadata": {},
   "outputs": [],
   "source": [
    "line_list = []\n",
    "\n"
   ]
  },
  {
   "cell_type": "code",
   "execution_count": 26,
   "metadata": {},
   "outputs": [],
   "source": [
    "for line in open(\"pendulum.txt\"):\n",
    "    line_list.append(line)"
   ]
  },
  {
   "cell_type": "code",
   "execution_count": 27,
   "metadata": {},
   "outputs": [
    {
     "data": {
      "text/plain": [
       "['1.0000e-01 6.9004e-01\\n',\n",
       " '1.1000e-01 6.9497e-01\\n',\n",
       " '1.2000e-01 7.4252e-01\\n',\n",
       " '1.3000e-01 7.5360e-01\\n',\n",
       " '1.4000e-01 8.3568e-01\\n',\n",
       " '1.5000e-01 8.6789e-01\\n',\n",
       " '1.6000e-01 8.4182e-01\\n',\n",
       " '1.7000e-01 8.5379e-01\\n',\n",
       " '1.8000e-01 8.5762e-01\\n',\n",
       " '1.9000e-01 8.8390e-01\\n']"
      ]
     },
     "execution_count": 27,
     "metadata": {},
     "output_type": "execute_result"
    }
   ],
   "source": [
    "line_list"
   ]
  },
  {
   "cell_type": "code",
   "execution_count": 31,
   "metadata": {},
   "outputs": [
    {
     "data": {
      "text/plain": [
       "'1. The open function returns a \\n• string \\n• list \\n• file object : Ans\\n• function \\n2. What does the function splitlines() do? \\n• Displays the data as strings, all in a line \\n• Displays the data line by line as strings : Ans\\n• Displays the data line by line but not as string'"
      ]
     },
     "execution_count": 31,
     "metadata": {},
     "output_type": "execute_result"
    }
   ],
   "source": [
    "# Assignment\n",
    "'''1. The open function returns a \n",
    "• string \n",
    "• list \n",
    "• file object : Ans\n",
    "• function \n",
    "2. What does the function splitlines() do? \n",
    "• Displays the data as strings, all in a line \n",
    "• Displays the data line by line as strings : Ans\n",
    "• Displays the data line by line but not as string'''\n"
   ]
  },
  {
   "cell_type": "code",
   "execution_count": null,
   "metadata": {},
   "outputs": [],
   "source": []
  }
 ],
 "metadata": {
  "kernelspec": {
   "display_name": "Python 3",
   "language": "python",
   "name": "python3"
  },
  "language_info": {
   "codemirror_mode": {
    "name": "ipython",
    "version": 3
   },
   "file_extension": ".py",
   "mimetype": "text/x-python",
   "name": "python",
   "nbconvert_exporter": "python",
   "pygments_lexer": "ipython3",
   "version": "3.8.3"
  }
 },
 "nbformat": 4,
 "nbformat_minor": 4
}
