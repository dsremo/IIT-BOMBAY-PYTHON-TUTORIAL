{
 "cells": [
  {
   "cell_type": "markdown",
   "metadata": {},
   "source": [
    "# VIDEO 2"
   ]
  },
  {
   "cell_type": "code",
   "execution_count": 1,
   "metadata": {},
   "outputs": [],
   "source": [
    "# Assignment 1"
   ]
  },
  {
   "cell_type": "code",
   "execution_count": 10,
   "metadata": {},
   "outputs": [],
   "source": [
    "import pylab as pb\n",
    "import matplotlib "
   ]
  },
  {
   "cell_type": "code",
   "execution_count": 11,
   "metadata": {},
   "outputs": [
    {
     "name": "stdout",
     "output_type": "stream",
     "text": [
      "Help on function linspace in pylab:\n",
      "\n",
      "pylab.linspace = linspace(start, stop, num=50, endpoint=True, retstep=False, dtype=None, axis=0)\n",
      "    Return evenly spaced numbers over a specified interval.\n",
      "    \n",
      "    Returns `num` evenly spaced samples, calculated over the\n",
      "    interval [`start`, `stop`].\n",
      "    \n",
      "    The endpoint of the interval can optionally be excluded.\n",
      "    \n",
      "    .. versionchanged:: 1.16.0\n",
      "        Non-scalar `start` and `stop` are now supported.\n",
      "    \n",
      "    Parameters\n",
      "    ----------\n",
      "    start : array_like\n",
      "        The starting value of the sequence.\n",
      "    stop : array_like\n",
      "        The end value of the sequence, unless `endpoint` is set to False.\n",
      "        In that case, the sequence consists of all but the last of ``num + 1``\n",
      "        evenly spaced samples, so that `stop` is excluded.  Note that the step\n",
      "        size changes when `endpoint` is False.\n",
      "    num : int, optional\n",
      "        Number of samples to generate. Default is 50. Must be non-negative.\n",
      "    endpoint : bool, optional\n",
      "        If True, `stop` is the last sample. Otherwise, it is not included.\n",
      "        Default is True.\n",
      "    retstep : bool, optional\n",
      "        If True, return (`samples`, `step`), where `step` is the spacing\n",
      "        between samples.\n",
      "    dtype : dtype, optional\n",
      "        The type of the output array.  If `dtype` is not given, infer the data\n",
      "        type from the other input arguments.\n",
      "    \n",
      "        .. versionadded:: 1.9.0\n",
      "    \n",
      "    axis : int, optional\n",
      "        The axis in the result to store the samples.  Relevant only if start\n",
      "        or stop are array-like.  By default (0), the samples will be along a\n",
      "        new axis inserted at the beginning. Use -1 to get an axis at the end.\n",
      "    \n",
      "        .. versionadded:: 1.16.0\n",
      "    \n",
      "    Returns\n",
      "    -------\n",
      "    samples : ndarray\n",
      "        There are `num` equally spaced samples in the closed interval\n",
      "        ``[start, stop]`` or the half-open interval ``[start, stop)``\n",
      "        (depending on whether `endpoint` is True or False).\n",
      "    step : float, optional\n",
      "        Only returned if `retstep` is True\n",
      "    \n",
      "        Size of spacing between samples.\n",
      "    \n",
      "    \n",
      "    See Also\n",
      "    --------\n",
      "    arange : Similar to `linspace`, but uses a step size (instead of the\n",
      "             number of samples).\n",
      "    geomspace : Similar to `linspace`, but with numbers spaced evenly on a log\n",
      "                scale (a geometric progression).\n",
      "    logspace : Similar to `geomspace`, but with the end points specified as\n",
      "               logarithms.\n",
      "    \n",
      "    Examples\n",
      "    --------\n",
      "    >>> np.linspace(2.0, 3.0, num=5)\n",
      "    array([2.  , 2.25, 2.5 , 2.75, 3.  ])\n",
      "    >>> np.linspace(2.0, 3.0, num=5, endpoint=False)\n",
      "    array([2. ,  2.2,  2.4,  2.6,  2.8])\n",
      "    >>> np.linspace(2.0, 3.0, num=5, retstep=True)\n",
      "    (array([2.  ,  2.25,  2.5 ,  2.75,  3.  ]), 0.25)\n",
      "    \n",
      "    Graphical illustration:\n",
      "    \n",
      "    >>> import matplotlib.pyplot as plt\n",
      "    >>> N = 8\n",
      "    >>> y = np.zeros(N)\n",
      "    >>> x1 = np.linspace(0, 10, N, endpoint=True)\n",
      "    >>> x2 = np.linspace(0, 10, N, endpoint=False)\n",
      "    >>> plt.plot(x1, y, 'o')\n",
      "    [<matplotlib.lines.Line2D object at 0x...>]\n",
      "    >>> plt.plot(x2, y + 0.5, 'o')\n",
      "    [<matplotlib.lines.Line2D object at 0x...>]\n",
      "    >>> plt.ylim([-0.5, 1])\n",
      "    (-0.5, 1)\n",
      "    >>> plt.show()\n",
      "\n"
     ]
    }
   ],
   "source": [
    "help('pylab.linspace')"
   ]
  },
  {
   "cell_type": "code",
   "execution_count": 12,
   "metadata": {},
   "outputs": [
    {
     "data": {
      "text/plain": [
       "array([  1.,   2.,   3.,   4.,   5.,   6.,   7.,   8.,   9.,  10.,  11.,\n",
       "        12.,  13.,  14.,  15.,  16.,  17.,  18.,  19.,  20.,  21.,  22.,\n",
       "        23.,  24.,  25.,  26.,  27.,  28.,  29.,  30.,  31.,  32.,  33.,\n",
       "        34.,  35.,  36.,  37.,  38.,  39.,  40.,  41.,  42.,  43.,  44.,\n",
       "        45.,  46.,  47.,  48.,  49.,  50.,  51.,  52.,  53.,  54.,  55.,\n",
       "        56.,  57.,  58.,  59.,  60.,  61.,  62.,  63.,  64.,  65.,  66.,\n",
       "        67.,  68.,  69.,  70.,  71.,  72.,  73.,  74.,  75.,  76.,  77.,\n",
       "        78.,  79.,  80.,  81.,  82.,  83.,  84.,  85.,  86.,  87.,  88.,\n",
       "        89.,  90.,  91.,  92.,  93.,  94.,  95.,  96.,  97.,  98.,  99.,\n",
       "       100.])"
      ]
     },
     "execution_count": 12,
     "metadata": {},
     "output_type": "execute_result"
    }
   ],
   "source": [
    "# press Q to close the documentation in ipython\n",
    "pylab.linspace(1,100,100)"
   ]
  },
  {
   "cell_type": "code",
   "execution_count": 15,
   "metadata": {},
   "outputs": [
    {
     "data": {
      "text/plain": [
       "array([0.        , 0.00502513, 0.01005025, 0.01507538, 0.0201005 ,\n",
       "       0.02512563, 0.03015075, 0.03517588, 0.04020101, 0.04522613,\n",
       "       0.05025126, 0.05527638, 0.06030151, 0.06532663, 0.07035176,\n",
       "       0.07537688, 0.08040201, 0.08542714, 0.09045226, 0.09547739,\n",
       "       0.10050251, 0.10552764, 0.11055276, 0.11557789, 0.12060302,\n",
       "       0.12562814, 0.13065327, 0.13567839, 0.14070352, 0.14572864,\n",
       "       0.15075377, 0.15577889, 0.16080402, 0.16582915, 0.17085427,\n",
       "       0.1758794 , 0.18090452, 0.18592965, 0.19095477, 0.1959799 ,\n",
       "       0.20100503, 0.20603015, 0.21105528, 0.2160804 , 0.22110553,\n",
       "       0.22613065, 0.23115578, 0.2361809 , 0.24120603, 0.24623116,\n",
       "       0.25125628, 0.25628141, 0.26130653, 0.26633166, 0.27135678,\n",
       "       0.27638191, 0.28140704, 0.28643216, 0.29145729, 0.29648241,\n",
       "       0.30150754, 0.30653266, 0.31155779, 0.31658291, 0.32160804,\n",
       "       0.32663317, 0.33165829, 0.33668342, 0.34170854, 0.34673367,\n",
       "       0.35175879, 0.35678392, 0.36180905, 0.36683417, 0.3718593 ,\n",
       "       0.37688442, 0.38190955, 0.38693467, 0.3919598 , 0.39698492,\n",
       "       0.40201005, 0.40703518, 0.4120603 , 0.41708543, 0.42211055,\n",
       "       0.42713568, 0.4321608 , 0.43718593, 0.44221106, 0.44723618,\n",
       "       0.45226131, 0.45728643, 0.46231156, 0.46733668, 0.47236181,\n",
       "       0.47738693, 0.48241206, 0.48743719, 0.49246231, 0.49748744,\n",
       "       0.50251256, 0.50753769, 0.51256281, 0.51758794, 0.52261307,\n",
       "       0.52763819, 0.53266332, 0.53768844, 0.54271357, 0.54773869,\n",
       "       0.55276382, 0.55778894, 0.56281407, 0.5678392 , 0.57286432,\n",
       "       0.57788945, 0.58291457, 0.5879397 , 0.59296482, 0.59798995,\n",
       "       0.60301508, 0.6080402 , 0.61306533, 0.61809045, 0.62311558,\n",
       "       0.6281407 , 0.63316583, 0.63819095, 0.64321608, 0.64824121,\n",
       "       0.65326633, 0.65829146, 0.66331658, 0.66834171, 0.67336683,\n",
       "       0.67839196, 0.68341709, 0.68844221, 0.69346734, 0.69849246,\n",
       "       0.70351759, 0.70854271, 0.71356784, 0.71859296, 0.72361809,\n",
       "       0.72864322, 0.73366834, 0.73869347, 0.74371859, 0.74874372,\n",
       "       0.75376884, 0.75879397, 0.7638191 , 0.76884422, 0.77386935,\n",
       "       0.77889447, 0.7839196 , 0.78894472, 0.79396985, 0.79899497,\n",
       "       0.8040201 , 0.80904523, 0.81407035, 0.81909548, 0.8241206 ,\n",
       "       0.82914573, 0.83417085, 0.83919598, 0.84422111, 0.84924623,\n",
       "       0.85427136, 0.85929648, 0.86432161, 0.86934673, 0.87437186,\n",
       "       0.87939698, 0.88442211, 0.88944724, 0.89447236, 0.89949749,\n",
       "       0.90452261, 0.90954774, 0.91457286, 0.91959799, 0.92462312,\n",
       "       0.92964824, 0.93467337, 0.93969849, 0.94472362, 0.94974874,\n",
       "       0.95477387, 0.95979899, 0.96482412, 0.96984925, 0.97487437,\n",
       "       0.9798995 , 0.98492462, 0.98994975, 0.99497487, 1.        ])"
      ]
     },
     "execution_count": 15,
     "metadata": {},
     "output_type": "execute_result"
    }
   ],
   "source": [
    "pb.linspace(0,1,200)# 200 points between 0 and 1"
   ]
  },
  {
   "cell_type": "code",
   "execution_count": 19,
   "metadata": {},
   "outputs": [],
   "source": [
    "from math import pi\n",
    "t = pb.linspace(-pi,pi,100)"
   ]
  },
  {
   "cell_type": "code",
   "execution_count": 20,
   "metadata": {},
   "outputs": [
    {
     "data": {
      "text/plain": [
       "100"
      ]
     },
     "execution_count": 20,
     "metadata": {},
     "output_type": "execute_result"
    }
   ],
   "source": [
    "len(t)"
   ]
  },
  {
   "cell_type": "code",
   "execution_count": 26,
   "metadata": {},
   "outputs": [
    {
     "data": {
      "text/plain": [
       "[<matplotlib.lines.Line2D at 0x1fe9ba75760>]"
      ]
     },
     "execution_count": 26,
     "metadata": {},
     "output_type": "execute_result"
    },
    {
     "data": {
      "image/png": "[encoded data removed]",
      "text/plain": [
       "<Figure size 432x288 with 1 Axes>"
      ]
     },
     "metadata": {
      "needs_background": "light"
     },
     "output_type": "display_data"
    }
   ],
   "source": [
    "pb.plot(t,pb.cos(t))"
   ]
  },
  {
   "cell_type": "code",
   "execution_count": 28,
   "metadata": {},
   "outputs": [],
   "source": [
    "cosine = pb.cos(t)"
   ]
  },
  {
   "cell_type": "code",
   "execution_count": 29,
   "metadata": {},
   "outputs": [
    {
     "data": {
      "text/plain": [
       "[<matplotlib.lines.Line2D at 0x1fe9baddca0>]"
      ]
     },
     "execution_count": 29,
     "metadata": {},
     "output_type": "execute_result"
    },
    {
     "data": {
      "image/png": "[encoded data removed]",
      "text/plain": [
       "<Figure size 432x288 with 1 Axes>"
      ]
     },
     "metadata": {
      "needs_background": "light"
     },
     "output_type": "display_data"
    }
   ],
   "source": [
    "pb.plot(t,cosine)"
   ]
  },
  {
   "cell_type": "code",
   "execution_count": 30,
   "metadata": {},
   "outputs": [
    {
     "data": {
      "text/plain": [
       "<Figure size 432x288 with 0 Axes>"
      ]
     },
     "metadata": {},
     "output_type": "display_data"
    }
   ],
   "source": [
    "pb.clf()"
   ]
  },
  {
   "cell_type": "code",
   "execution_count": 33,
   "metadata": {},
   "outputs": [
    {
     "data": {
      "text/plain": [
       "[<matplotlib.lines.Line2D at 0x1fe9bbd3e50>]"
      ]
     },
     "execution_count": 33,
     "metadata": {},
     "output_type": "execute_result"
    },
    {
     "data": {
      "image/png": "[encoded data removed]",
      "text/plain": [
       "<Figure size 432x288 with 1 Axes>"
      ]
     },
     "metadata": {
      "needs_background": "light"
     },
     "output_type": "display_data"
    }
   ],
   "source": [
    "pb.plot(t,pb.sin(t))"
   ]
  },
  {
   "cell_type": "code",
   "execution_count": 37,
   "metadata": {
    "scrolled": true
   },
   "outputs": [
    {
     "data": {
      "text/plain": [
       "[<matplotlib.lines.Line2D at 0x1fe9bcdfe80>]"
      ]
     },
     "execution_count": 37,
     "metadata": {},
     "output_type": "execute_result"
    },
    {
     "data": {
      "image/png": "[encoded data removed]",
      "text/plain": [
       "<Figure size 432x288 with 1 Axes>"
      ]
     },
     "metadata": {
      "needs_background": "light"
     },
     "output_type": "display_data"
    }
   ],
   "source": [
    "# Assignment\n",
    "# plot sin(t)**2/t\n",
    "pb.plot(t,pb.sin(t)**2/t)"
   ]
  },
  {
   "cell_type": "code",
   "execution_count": 39,
   "metadata": {},
   "outputs": [
    {
     "data": {
      "text/plain": [
       "array([-1.57079633, -1.53906307, -1.50732981, -1.47559655, -1.44386329,\n",
       "       -1.41213003, -1.38039677, -1.34866351, -1.31693025, -1.28519699,\n",
       "       -1.25346374, -1.22173048, -1.18999722, -1.15826396, -1.1265307 ,\n",
       "       -1.09479744, -1.06306418, -1.03133092, -0.99959766, -0.9678644 ,\n",
       "       -0.93613114, -0.90439789, -0.87266463, -0.84093137, -0.80919811,\n",
       "       -0.77746485, -0.74573159, -0.71399833, -0.68226507, -0.65053181,\n",
       "       -0.61879855, -0.58706529, -0.55533203, -0.52359878, -0.49186552,\n",
       "       -0.46013226, -0.428399  , -0.39666574, -0.36493248, -0.33319922,\n",
       "       -0.30146596, -0.2697327 , -0.23799944, -0.20626618, -0.17453293,\n",
       "       -0.14279967, -0.11106641, -0.07933315, -0.04759989, -0.01586663,\n",
       "        0.01586663,  0.04759989,  0.07933315,  0.11106641,  0.14279967,\n",
       "        0.17453293,  0.20626618,  0.23799944,  0.2697327 ,  0.30146596,\n",
       "        0.33319922,  0.36493248,  0.39666574,  0.428399  ,  0.46013226,\n",
       "        0.49186552,  0.52359878,  0.55533203,  0.58706529,  0.61879855,\n",
       "        0.65053181,  0.68226507,  0.71399833,  0.74573159,  0.77746485,\n",
       "        0.80919811,  0.84093137,  0.87266463,  0.90439789,  0.93613114,\n",
       "        0.9678644 ,  0.99959766,  1.03133092,  1.06306418,  1.09479744,\n",
       "        1.1265307 ,  1.15826396,  1.18999722,  1.22173048,  1.25346374,\n",
       "        1.28519699,  1.31693025,  1.34866351,  1.38039677,  1.41213003,\n",
       "        1.44386329,  1.47559655,  1.50732981,  1.53906307,  1.57079633])"
      ]
     },
     "execution_count": 39,
     "metadata": {},
     "output_type": "execute_result"
    }
   ],
   "source": [
    "# Assignment 2\n",
    "#  Create 100 equally spaced points between -pi/2 and pi/2\n",
    "pb.linspace(-pi/2,pi/2,100)"
   ]
  },
  {
   "cell_type": "code",
   "execution_count": 41,
   "metadata": {},
   "outputs": [
    {
     "name": "stdout",
     "output_type": "stream",
     "text": [
      "By using len(sequence) funtion we can find the length of sequence\n"
     ]
    },
    {
     "data": {
      "text/plain": [
       "100"
      ]
     },
     "execution_count": 41,
     "metadata": {},
     "output_type": "execute_result"
    }
   ],
   "source": [
    "# How can we find the length of a sequence?\n",
    "print(\"By using len(sequence) funtion we can find the length of sequence\")\n",
    "len(t)"
   ]
  },
  {
   "cell_type": "code",
   "execution_count": 43,
   "metadata": {},
   "outputs": [
    {
     "name": "stdout",
     "output_type": "stream",
     "text": [
      "What will the command linspace(-pi, pi ,100) do?\n",
      "It will give 100 equally spaced points between -pi and pi\n"
     ]
    }
   ],
   "source": [
    "print('What will the command linspace(-pi, pi ,100) do?')\n",
    "print(\"It will give 100 equally spaced points between -pi and pi\")"
   ]
  },
  {
   "cell_type": "code",
   "execution_count": null,
   "metadata": {},
   "outputs": [],
   "source": []
  }
 ],
 "metadata": {
  "kernelspec": {
   "display_name": "Python 3",
   "language": "python",
   "name": "python3"
  },
  "language_info": {
   "codemirror_mode": {
    "name": "ipython",
    "version": 3
   },
   "file_extension": ".py",
   "mimetype": "text/x-python",
   "name": "python",
   "nbconvert_exporter": "python",
   "pygments_lexer": "ipython3",
   "version": "3.8.3"
  }
 },
 "nbformat": 4,
 "nbformat_minor": 4
}
