{
 "cells": [
  {
   "cell_type": "markdown",
   "metadata": {},
   "source": [
    "# Video 23"
   ]
  },
  {
   "cell_type": "code",
   "execution_count": 8,
   "metadata": {},
   "outputs": [],
   "source": [
    "from numpy import loadtxt"
   ]
  },
  {
   "cell_type": "code",
   "execution_count": 9,
   "metadata": {},
   "outputs": [],
   "source": [
    "L,t= loadtxt('pendulum.txt',unpack=True)"
   ]
  },
  {
   "cell_type": "code",
   "execution_count": 10,
   "metadata": {},
   "outputs": [
    {
     "data": {
      "text/plain": [
       "array([0.1 , 0.11, 0.12, 0.13, 0.14, 0.15, 0.16, 0.17, 0.18, 0.19, 0.2 ,\n",
       "       0.21, 0.22, 0.23, 0.24, 0.25, 0.26, 0.27, 0.28, 0.29, 0.3 , 0.31,\n",
       "       0.32, 0.33, 0.34, 0.35, 0.36, 0.37, 0.38, 0.39, 0.4 , 0.41, 0.42,\n",
       "       0.43, 0.44, 0.45, 0.46, 0.47, 0.48, 0.49, 0.5 , 0.51, 0.52, 0.53,\n",
       "       0.54, 0.55, 0.56, 0.57, 0.58, 0.59, 0.6 , 0.61, 0.62, 0.63, 0.64,\n",
       "       0.65, 0.66, 0.67, 0.68, 0.69, 0.7 , 0.71, 0.72, 0.73, 0.74, 0.75,\n",
       "       0.76, 0.77, 0.78, 0.79, 0.8 , 0.81, 0.82, 0.83, 0.84, 0.85, 0.86,\n",
       "       0.87, 0.88, 0.89, 0.9 , 0.91, 0.92, 0.93, 0.94, 0.95, 0.96, 0.97,\n",
       "       0.98, 0.99])"
      ]
     },
     "execution_count": 10,
     "metadata": {},
     "output_type": "execute_result"
    }
   ],
   "source": [
    "L"
   ]
  },
  {
   "cell_type": "code",
   "execution_count": 11,
   "metadata": {},
   "outputs": [
    {
     "data": {
      "text/plain": [
       "array([0.69004, 0.69497, 0.74252, 0.7536 , 0.83568, 0.86789, 0.84182,\n",
       "       0.85379, 0.85762, 0.8839 , 0.89985, 0.98436, 1.0244 , 1.0572 ,\n",
       "       0.99077, 1.0058 , 1.0727 , 1.0943 , 1.1432 , 1.1045 , 1.1867 ,\n",
       "       1.1385 , 1.2245 , 1.2406 , 1.2071 , 1.2658 , 1.2995 , 1.3142 ,\n",
       "       1.2663 , 1.2578 , 1.2991 , 1.3058 , 1.3478 , 1.3506 , 1.4044 ,\n",
       "       1.3948 , 1.38   , 1.448  , 1.4168 , 1.4719 , 1.4656 , 1.4399 ,\n",
       "       1.5174 , 1.4988 , 1.4751 , 1.5326 , 1.5297 , 1.5372 , 1.6094 ,\n",
       "       1.6352 , 1.5843 , 1.6643 , 1.5987 , 1.6585 , 1.6317 , 1.7074 ,\n",
       "       1.6654 , 1.6551 , 1.6964 , 1.7143 , 1.7706 , 1.7622 , 1.726  ,\n",
       "       1.8089 , 1.7905 , 1.7428 , 1.8381 , 1.8182 , 1.7865 , 1.7995 ,\n",
       "       1.8296 , 1.8625 , 1.8623 , 1.8383 , 1.8593 , 1.8944 , 1.9598 ,\n",
       "       1.9    , 1.9244 , 1.9397 , 1.944  , 1.9718 , 1.9383 , 1.9555 ,\n",
       "       2.0006 , 1.9841 , 2.0066 , 2.0493 , 2.0503 , 2.0214 ])"
      ]
     },
     "execution_count": 11,
     "metadata": {},
     "output_type": "execute_result"
    }
   ],
   "source": [
    "t"
   ]
  },
  {
   "cell_type": "code",
   "execution_count": 12,
   "metadata": {},
   "outputs": [
    {
     "data": {
      "text/plain": [
       "<function matplotlib.pyplot.show(*args, **kw)>"
      ]
     },
     "execution_count": 12,
     "metadata": {},
     "output_type": "execute_result"
    },
    {
     "data": {
      "image/png": "[encoded data removed]",
      "text/plain": [
       "<Figure size 432x288 with 1 Axes>"
      ]
     },
     "metadata": {
      "needs_background": "light"
     },
     "output_type": "display_data"
    }
   ],
   "source": [
    "import matplotlib.pyplot as plt\n",
    "tsq = t*t\n",
    "plt.plot(L,tsq,'bo')\n",
    "plt.show"
   ]
  },
  {
   "cell_type": "code",
   "execution_count": 13,
   "metadata": {},
   "outputs": [
    {
     "data": {
      "text/plain": [
       "array([[0.1 , 0.11, 0.12, 0.13, 0.14, 0.15, 0.16, 0.17, 0.18, 0.19, 0.2 ,\n",
       "        0.21, 0.22, 0.23, 0.24, 0.25, 0.26, 0.27, 0.28, 0.29, 0.3 , 0.31,\n",
       "        0.32, 0.33, 0.34, 0.35, 0.36, 0.37, 0.38, 0.39, 0.4 , 0.41, 0.42,\n",
       "        0.43, 0.44, 0.45, 0.46, 0.47, 0.48, 0.49, 0.5 , 0.51, 0.52, 0.53,\n",
       "        0.54, 0.55, 0.56, 0.57, 0.58, 0.59, 0.6 , 0.61, 0.62, 0.63, 0.64,\n",
       "        0.65, 0.66, 0.67, 0.68, 0.69, 0.7 , 0.71, 0.72, 0.73, 0.74, 0.75,\n",
       "        0.76, 0.77, 0.78, 0.79, 0.8 , 0.81, 0.82, 0.83, 0.84, 0.85, 0.86,\n",
       "        0.87, 0.88, 0.89, 0.9 , 0.91, 0.92, 0.93, 0.94, 0.95, 0.96, 0.97,\n",
       "        0.98, 0.99],\n",
       "       [1.  , 1.  , 1.  , 1.  , 1.  , 1.  , 1.  , 1.  , 1.  , 1.  , 1.  ,\n",
       "        1.  , 1.  , 1.  , 1.  , 1.  , 1.  , 1.  , 1.  , 1.  , 1.  , 1.  ,\n",
       "        1.  , 1.  , 1.  , 1.  , 1.  , 1.  , 1.  , 1.  , 1.  , 1.  , 1.  ,\n",
       "        1.  , 1.  , 1.  , 1.  , 1.  , 1.  , 1.  , 1.  , 1.  , 1.  , 1.  ,\n",
       "        1.  , 1.  , 1.  , 1.  , 1.  , 1.  , 1.  , 1.  , 1.  , 1.  , 1.  ,\n",
       "        1.  , 1.  , 1.  , 1.  , 1.  , 1.  , 1.  , 1.  , 1.  , 1.  , 1.  ,\n",
       "        1.  , 1.  , 1.  , 1.  , 1.  , 1.  , 1.  , 1.  , 1.  , 1.  , 1.  ,\n",
       "        1.  , 1.  , 1.  , 1.  , 1.  , 1.  , 1.  , 1.  , 1.  , 1.  , 1.  ,\n",
       "        1.  , 1.  ]])"
      ]
     },
     "execution_count": 13,
     "metadata": {},
     "output_type": "execute_result"
    }
   ],
   "source": [
    "from numpy import array,ones_like\n",
    "inter_mat = array((L,ones_like(L)))\n",
    "inter_mat"
   ]
  },
  {
   "cell_type": "code",
   "execution_count": 14,
   "metadata": {},
   "outputs": [],
   "source": [
    "A = inter_mat.T"
   ]
  },
  {
   "cell_type": "code",
   "execution_count": 15,
   "metadata": {},
   "outputs": [
    {
     "data": {
      "text/plain": [
       "array([[0.1 , 1.  ],\n",
       "       [0.11, 1.  ],\n",
       "       [0.12, 1.  ],\n",
       "       [0.13, 1.  ],\n",
       "       [0.14, 1.  ],\n",
       "       [0.15, 1.  ],\n",
       "       [0.16, 1.  ],\n",
       "       [0.17, 1.  ],\n",
       "       [0.18, 1.  ],\n",
       "       [0.19, 1.  ],\n",
       "       [0.2 , 1.  ],\n",
       "       [0.21, 1.  ],\n",
       "       [0.22, 1.  ],\n",
       "       [0.23, 1.  ],\n",
       "       [0.24, 1.  ],\n",
       "       [0.25, 1.  ],\n",
       "       [0.26, 1.  ],\n",
       "       [0.27, 1.  ],\n",
       "       [0.28, 1.  ],\n",
       "       [0.29, 1.  ],\n",
       "       [0.3 , 1.  ],\n",
       "       [0.31, 1.  ],\n",
       "       [0.32, 1.  ],\n",
       "       [0.33, 1.  ],\n",
       "       [0.34, 1.  ],\n",
       "       [0.35, 1.  ],\n",
       "       [0.36, 1.  ],\n",
       "       [0.37, 1.  ],\n",
       "       [0.38, 1.  ],\n",
       "       [0.39, 1.  ],\n",
       "       [0.4 , 1.  ],\n",
       "       [0.41, 1.  ],\n",
       "       [0.42, 1.  ],\n",
       "       [0.43, 1.  ],\n",
       "       [0.44, 1.  ],\n",
       "       [0.45, 1.  ],\n",
       "       [0.46, 1.  ],\n",
       "       [0.47, 1.  ],\n",
       "       [0.48, 1.  ],\n",
       "       [0.49, 1.  ],\n",
       "       [0.5 , 1.  ],\n",
       "       [0.51, 1.  ],\n",
       "       [0.52, 1.  ],\n",
       "       [0.53, 1.  ],\n",
       "       [0.54, 1.  ],\n",
       "       [0.55, 1.  ],\n",
       "       [0.56, 1.  ],\n",
       "       [0.57, 1.  ],\n",
       "       [0.58, 1.  ],\n",
       "       [0.59, 1.  ],\n",
       "       [0.6 , 1.  ],\n",
       "       [0.61, 1.  ],\n",
       "       [0.62, 1.  ],\n",
       "       [0.63, 1.  ],\n",
       "       [0.64, 1.  ],\n",
       "       [0.65, 1.  ],\n",
       "       [0.66, 1.  ],\n",
       "       [0.67, 1.  ],\n",
       "       [0.68, 1.  ],\n",
       "       [0.69, 1.  ],\n",
       "       [0.7 , 1.  ],\n",
       "       [0.71, 1.  ],\n",
       "       [0.72, 1.  ],\n",
       "       [0.73, 1.  ],\n",
       "       [0.74, 1.  ],\n",
       "       [0.75, 1.  ],\n",
       "       [0.76, 1.  ],\n",
       "       [0.77, 1.  ],\n",
       "       [0.78, 1.  ],\n",
       "       [0.79, 1.  ],\n",
       "       [0.8 , 1.  ],\n",
       "       [0.81, 1.  ],\n",
       "       [0.82, 1.  ],\n",
       "       [0.83, 1.  ],\n",
       "       [0.84, 1.  ],\n",
       "       [0.85, 1.  ],\n",
       "       [0.86, 1.  ],\n",
       "       [0.87, 1.  ],\n",
       "       [0.88, 1.  ],\n",
       "       [0.89, 1.  ],\n",
       "       [0.9 , 1.  ],\n",
       "       [0.91, 1.  ],\n",
       "       [0.92, 1.  ],\n",
       "       [0.93, 1.  ],\n",
       "       [0.94, 1.  ],\n",
       "       [0.95, 1.  ],\n",
       "       [0.96, 1.  ],\n",
       "       [0.97, 1.  ],\n",
       "       [0.98, 1.  ],\n",
       "       [0.99, 1.  ]])"
      ]
     },
     "execution_count": 15,
     "metadata": {},
     "output_type": "execute_result"
    }
   ],
   "source": [
    "A"
   ]
  },
  {
   "cell_type": "code",
   "execution_count": 16,
   "metadata": {},
   "outputs": [],
   "source": [
    "from numpy.linalg import lstsq\n",
    "result = lstsq(A,tsq,rcond=None)"
   ]
  },
  {
   "cell_type": "code",
   "execution_count": 17,
   "metadata": {},
   "outputs": [
    {
     "data": {
      "text/plain": [
       "(array([4.14148447, 0.07358041]),\n",
       " array([0.63609563]),\n",
       " 2,\n",
       " array([10.8710938 ,  2.15077185]))"
      ]
     },
     "execution_count": 17,
     "metadata": {},
     "output_type": "execute_result"
    }
   ],
   "source": [
    "result"
   ]
  },
  {
   "cell_type": "code",
   "execution_count": 18,
   "metadata": {},
   "outputs": [],
   "source": [
    "p = result[0]\n"
   ]
  },
  {
   "cell_type": "code",
   "execution_count": 21,
   "metadata": {},
   "outputs": [],
   "source": [
    "m,c = p"
   ]
  },
  {
   "cell_type": "code",
   "execution_count": 22,
   "metadata": {},
   "outputs": [
    {
     "data": {
      "text/plain": [
       "4.1414844663694295"
      ]
     },
     "execution_count": 22,
     "metadata": {},
     "output_type": "execute_result"
    }
   ],
   "source": [
    "m"
   ]
  },
  {
   "cell_type": "code",
   "execution_count": 23,
   "metadata": {},
   "outputs": [
    {
     "data": {
      "text/plain": [
       "0.07358041497643945"
      ]
     },
     "execution_count": 23,
     "metadata": {},
     "output_type": "execute_result"
    }
   ],
   "source": [
    "c"
   ]
  },
  {
   "cell_type": "code",
   "execution_count": 27,
   "metadata": {},
   "outputs": [
    {
     "data": {
      "image/png": "[encoded data removed]",
      "text/plain": [
       "<Figure size 432x288 with 1 Axes>"
      ]
     },
     "metadata": {
      "needs_background": "light"
     },
     "output_type": "display_data"
    }
   ],
   "source": [
    "tsq_fit = m*L+c\n",
    "plt.plot(L,tsq,'bo')\n",
    "plt.plot(L,tsq_fit,'r')\n",
    "plt.show()"
   ]
  },
  {
   "cell_type": "code",
   "execution_count": 28,
   "metadata": {},
   "outputs": [
    {
     "data": {
      "text/plain": [
       "'What does ones_like([1, 2, 3]) produce?\\n➢ array([1, 1, 1]) # Ans\\n'"
      ]
     },
     "execution_count": 28,
     "metadata": {},
     "output_type": "execute_result"
    }
   ],
   "source": [
    "# Assignment\n",
    "'''What does ones_like([1, 2, 3]) produce?\n",
    "➢ array([1, 1, 1]) # Ans\n",
    "'''"
   ]
  },
  {
   "cell_type": "code",
   "execution_count": null,
   "metadata": {},
   "outputs": [],
   "source": []
  }
 ],
 "metadata": {
  "kernelspec": {
   "display_name": "Python 3",
   "language": "python",
   "name": "python3"
  },
  "language_info": {
   "codemirror_mode": {
    "name": "ipython",
    "version": 3
   },
   "file_extension": ".py",
   "mimetype": "text/x-python",
   "name": "python",
   "nbconvert_exporter": "python",
   "pygments_lexer": "ipython3",
   "version": "3.8.3"
  }
 },
 "nbformat": 4,
 "nbformat_minor": 4
}
