{
 "cells": [
  {
   "cell_type": "markdown",
   "metadata": {},
   "source": [
    "# Gauss Elimination"
   ]
  },
  {
   "cell_type": "code",
   "execution_count": 11,
   "metadata": {},
   "outputs": [
    {
     "name": "stdout",
     "output_type": "stream",
     "text": [
      "Enter no of unknowns: 3\n",
      "Enter Augumented vector coefficients\n",
      "a[0][0]=1\n",
      "a[0][1]=1\n",
      "a[0][2]=1\n",
      "a[0][3]=9\n",
      "a[1][0]=2\n",
      "a[1][1]=-3\n",
      "a[1][2]=4\n",
      "a[1][3]=13\n",
      "a[2][0]=3\n",
      "a[2][1]=4\n",
      "a[2][2]=5\n",
      "a[2][3]=40\n",
      "\n",
      "Required solution is: \n",
      "X0 = 1.00\tX1 = 3.00\tX2 = 5.00\t"
     ]
    }
   ],
   "source": [
    "import numpy as np\n",
    "import os\n",
    "\n",
    "n = int(input('Enter no of unknowns: '))\n",
    "\n",
    "a = np.zeros((n,n+1))#numpy array for storing augumented matrix \n",
    "\n",
    "\n",
    "x = np.zeros(n)# numpy array for solution vector\n",
    "\n",
    "# Reading augumented matrix coefficients\n",
    "print(\"Enter Augumented vector coefficients\")\n",
    "for i in range(n):\n",
    "    for j in range(n+1):\n",
    "        a[i][j] = float(input('a['+str(i)+']['+str(j)+']='))\n",
    "        \n",
    "# Applying Gauss Elimination\n",
    "for i in range(n):\n",
    "    if a[i][i] == 0.0:\n",
    "        sys.exit(\"Divide by zero detected!\")\n",
    "    for j in range(i+1,n):\n",
    "        ratio = a[j][i]/a[i][i]\n",
    "        for k in range(n+1):\n",
    "            a[j][k] = a[j][k] - ratio * a[i][k]\n",
    "\n",
    "# Back Substitution\n",
    "x[n-1] = a[n-1][n]/a[n-1][n-1]\n",
    "\n",
    "for i in range(n-2,-1,-1):\n",
    "    x[i] = a[i][n]\n",
    "    \n",
    "    for j in range(i+1,n):\n",
    "        x[i] = x[i] - a[i][j]*x[j]\n",
    "    \n",
    "    x[i] = x[i]/a[i][i]\n",
    "\n",
    "# Displaying solution\n",
    "print('\\nRequired solution is: ')\n",
    "for i in range(n):\n",
    "    print('X%d = %0.2f' %(i,x[i]), end = '\\t')\n"
   ]
  },
  {
   "cell_type": "markdown",
   "metadata": {},
   "source": [
    "# Gauss Elimination with pivoting(Code is right but not sure if it is of the topic)"
   ]
  },
  {
   "cell_type": "code",
   "execution_count": 13,
   "metadata": {},
   "outputs": [],
   "source": [
    "def linearsolver(A,b):\n",
    "  n = len(A)\n",
    "  M = A\n",
    "\n",
    "  i = 0\n",
    "  for x in M:\n",
    "   x.append(b[i])\n",
    "   i += 1\n",
    "\n",
    "  for k in range(n):\n",
    "   for i in range(k,n):\n",
    "     if abs(M[i][k]) > abs(M[k][k]):\n",
    "        M[k], M[i] = M[i],M[k]\n",
    "     else:\n",
    "        pass\n",
    "\n",
    "   for j in range(k+1,n):\n",
    "       q = float(M[j][k]) / M[k][k]\n",
    "       for m in range(k, n+1):\n",
    "          M[j][m] -=  q * M[k][m]\n",
    "\n",
    "  x = [0 for i in range(n)]\n",
    "\n",
    "  x[n-1] =float(M[n-1][n])/M[n-1][n-1]\n",
    "  for i in range (n-1,-1,-1):\n",
    "    z = 0\n",
    "    for j in range(i+1,n):\n",
    "        z = z  + float(M[i][j])*x[j]\n",
    "    x[i] = float(M[i][n] - z)/M[i][i]\n",
    "  print(x)"
   ]
  },
  {
   "cell_type": "code",
   "execution_count": 14,
   "metadata": {},
   "outputs": [
    {
     "name": "stdout",
     "output_type": "stream",
     "text": [
      "[2.9999999999999996, 0.9999999999999996, 2.0]\n"
     ]
    }
   ],
   "source": [
    "A = [[3, 2, -4], [2, 3, 3], [5, -3, 1]]\n",
    "b = [3, 15, 14]\n",
    "linearsolver(A,b)"
   ]
  },
  {
   "cell_type": "code",
   "execution_count": 16,
   "metadata": {},
   "outputs": [
    {
     "name": "stdout",
     "output_type": "stream",
     "text": [
      "[0.2608695652173912, 2.7739130434782613, 0.9652173913043478]\n"
     ]
    }
   ],
   "source": [
    "A = [[1,1,1],[9,2,-3],[4,13,3]]\n",
    "b = [4,5,40]\n",
    "linearsolver(A,b)"
   ]
  },
  {
   "cell_type": "markdown",
   "metadata": {},
   "source": [
    "# Gauss Jordan"
   ]
  },
  {
   "cell_type": "code",
   "execution_count": 17,
   "metadata": {},
   "outputs": [
    {
     "name": "stdout",
     "output_type": "stream",
     "text": [
      "Enter number of unknowns: 3\n",
      "Enter Augmented Matrix Coefficients:\n",
      "a[0][0]=1\n",
      "a[0][1]=1\n",
      "a[0][2]=1\n",
      "a[0][3]=9\n",
      "a[1][0]=2\n",
      "a[1][1]=-3\n",
      "a[1][2]=4\n",
      "a[1][3]=13\n",
      "a[2][0]=3\n",
      "a[2][1]=4\n",
      "a[2][2]=5\n",
      "a[2][3]=40\n",
      "\n",
      "Required solution is: \n",
      "X0 = 1.00\tX1 = 3.00\tX2 = 5.00\t"
     ]
    }
   ],
   "source": [
    "import numpy as np\n",
    "import sys\n",
    "\n",
    "# Reading number of unknowns\n",
    "n = int(input('Enter number of unknowns: '))\n",
    "\n",
    "# Making numpy array of n x n+1 size and initializing \n",
    "# to zero for storing augmented matrix\n",
    "a = np.zeros((n,n+1))\n",
    "\n",
    "# Making numpy array of n size and initializing \n",
    "# to zero for storing solution vector\n",
    "x = np.zeros(n)\n",
    "\n",
    "# Reading augmented matrix coefficients\n",
    "print('Enter Augmented Matrix Coefficients:')\n",
    "for i in range(n):\n",
    "    for j in range(n+1):\n",
    "        a[i][j] = float(input( 'a['+str(i)+']['+ str(j)+']='))\n",
    "\n",
    "# Applying Gauss Jordan Elimination\n",
    "for i in range(n):\n",
    "    if a[i][i] == 0.0:\n",
    "        sys.exit('Divide by zero detected!')\n",
    "        \n",
    "    for j in range(n):\n",
    "        if i != j:\n",
    "            ratio = a[j][i]/a[i][i]\n",
    "\n",
    "            for k in range(n+1):\n",
    "                a[j][k] = a[j][k] - ratio * a[i][k]\n",
    "\n",
    "# Obtaining Solution\n",
    "\n",
    "for i in range(n):\n",
    "    x[i] = a[i][n]/a[i][i]\n",
    "\n",
    "# Displaying solution\n",
    "print('\\nRequired solution is: ')\n",
    "for i in range(n):\n",
    "    print('X%d = %0.2f' %(i,x[i]), end = '\\t')"
   ]
  },
  {
   "cell_type": "markdown",
   "metadata": {},
   "source": [
    "# Gauss Jacobi"
   ]
  },
  {
   "cell_type": "code",
   "execution_count": 18,
   "metadata": {},
   "outputs": [
    {
     "name": "stdout",
     "output_type": "stream",
     "text": [
      "Enter tolerable error: 0.00001\n",
      "\n",
      "Count\tx\ty\tz\n",
      "\n",
      "1\t0.8500\t-0.9000\t1.2500\n",
      "\n",
      "2\t1.0200\t-0.9650\t1.0300\n",
      "\n",
      "3\t1.0012\t-1.0015\t1.0032\n",
      "\n",
      "4\t1.0004\t-1.0000\t0.9996\n",
      "\n",
      "5\t1.0000\t-1.0001\t1.0000\n",
      "\n",
      "6\t1.0000\t-1.0000\t1.0000\n",
      "\n",
      "7\t1.0000\t-1.0000\t1.0000\n",
      "\n",
      "\n",
      "Solution: x=1.000, y=-1.000 and z = 1.000\n",
      "\n"
     ]
    }
   ],
   "source": [
    "# Defining equations to be solved\n",
    "# in diagonally dominant form\n",
    "f1 = lambda x,y,z: (17-y+2*z)/20\n",
    "f2 = lambda x,y,z: (-18-3*x+z)/20\n",
    "f3 = lambda x,y,z: (25-2*x+3*y)/20\n",
    "\n",
    "# Initial setup\n",
    "x0 = 0\n",
    "y0 = 0\n",
    "z0 = 0\n",
    "count = 1\n",
    "\n",
    "# Reading tolerable error\n",
    "e = float(input('Enter tolerable error: '))\n",
    "\n",
    "# Implementation of Jacobi Iteration\n",
    "print('\\nCount\\tx\\ty\\tz\\n')\n",
    "\n",
    "condition = True\n",
    "\n",
    "while condition:\n",
    "    x1 = f1(x0,y0,z0)\n",
    "    y1 = f2(x0,y0,z0)\n",
    "    z1 = f3(x0,y0,z0)\n",
    "    print('%d\\t%0.4f\\t%0.4f\\t%0.4f\\n' %(count, x1,y1,z1))\n",
    "    e1 = abs(x0-x1);\n",
    "    e2 = abs(y0-y1);\n",
    "    e3 = abs(z0-z1);\n",
    "    \n",
    "    count += 1\n",
    "    x0 = x1\n",
    "    y0 = y1\n",
    "    z0 = z1\n",
    "    \n",
    "    condition = e1>e and e2>e and e3>e\n",
    "\n",
    "print('\\nSolution: x=%0.3f, y=%0.3f and z = %0.3f\\n'% (x1,y1,z1))"
   ]
  },
  {
   "cell_type": "markdown",
   "metadata": {},
   "source": [
    "# Gauss Seidel"
   ]
  },
  {
   "cell_type": "code",
   "execution_count": 19,
   "metadata": {},
   "outputs": [
    {
     "name": "stdout",
     "output_type": "stream",
     "text": [
      "Enter tolerable error: 0.0001\n",
      "\n",
      "Count\tx\ty\tz\n",
      "\n",
      "1\t0.8500\t-1.0275\t1.0109\n",
      "\n",
      "2\t1.0025\t-0.9998\t0.9998\n",
      "\n",
      "3\t1.0000\t-1.0000\t1.0000\n",
      "\n",
      "4\t1.0000\t-1.0000\t1.0000\n",
      "\n",
      "\n",
      "Solution: x=1.000, y=-1.000 and z = 1.000\n",
      "\n"
     ]
    }
   ],
   "source": [
    "# Defining equations to be solved\n",
    "# in diagonally dominant form\n",
    "f1 = lambda x,y,z: (17-y+2*z)/20\n",
    "f2 = lambda x,y,z: (-18-3*x+z)/20\n",
    "f3 = lambda x,y,z: (25-2*x+3*y)/20\n",
    "\n",
    "# Initial setup\n",
    "x0 = 0\n",
    "y0 = 0\n",
    "z0 = 0\n",
    "count = 1\n",
    "\n",
    "# Reading tolerable error\n",
    "e = float(input('Enter tolerable error: '))\n",
    "\n",
    "# Implementation of Gauss Seidel Iteration\n",
    "print('\\nCount\\tx\\ty\\tz\\n')\n",
    "\n",
    "condition = True\n",
    "\n",
    "while condition:\n",
    "    x1 = f1(x0,y0,z0)\n",
    "    y1 = f2(x1,y0,z0)\n",
    "    z1 = f3(x1,y1,z0)\n",
    "    print('%d\\t%0.4f\\t%0.4f\\t%0.4f\\n' %(count, x1,y1,z1))\n",
    "    e1 = abs(x0-x1);\n",
    "    e2 = abs(y0-y1);\n",
    "    e3 = abs(z0-z1);\n",
    "    \n",
    "    count += 1\n",
    "    x0 = x1\n",
    "    y0 = y1\n",
    "    z0 = z1\n",
    "    \n",
    "    condition = e1>e and e2>e and e3>e\n",
    "\n",
    "print('\\nSolution: x=%0.3f, y=%0.3f and z = %0.3f\\n'% (x1,y1,z1))"
   ]
  },
  {
   "cell_type": "markdown",
   "metadata": {},
   "source": []
  }
 ],
 "metadata": {
  "kernelspec": {
   "display_name": "Python 3",
   "language": "python",
   "name": "python3"
  },
  "language_info": {
   "codemirror_mode": {
    "name": "ipython",
    "version": 3
   },
   "file_extension": ".py",
   "mimetype": "text/x-python",
   "name": "python",
   "nbconvert_exporter": "python",
   "pygments_lexer": "ipython3",
   "version": "3.8.3"
  }
 },
 "nbformat": 4,
 "nbformat_minor": 4
}
