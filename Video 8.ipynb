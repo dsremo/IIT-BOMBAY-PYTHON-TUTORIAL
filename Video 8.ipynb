{
 "cells": [
  {
   "cell_type": "markdown",
   "metadata": {},
   "source": [
    "# Video 8"
   ]
  },
  {
   "cell_type": "code",
   "execution_count": 14,
   "metadata": {},
   "outputs": [
    {
     "name": "stdout",
     "output_type": "stream",
     "text": [
      "No Python documentation found for 'cat'.\n",
      "Use help() to get the interactive help utility.\n",
      "Use help(str) for help on the str class.\n",
      "\n"
     ]
    }
   ],
   "source": [
    "import pylab as pb\n",
    "from pylab import linspace, plot, cos, sin\n",
    "from math import pi\n",
    "#help('type')\n"
   ]
  },
  {
   "cell_type": "code",
   "execution_count": 17,
   "metadata": {},
   "outputs": [
    {
     "name": "stdout",
     "output_type": "stream",
     "text": [
      "2\n",
      "3      \n",
      "5      \n",
      "7     \n",
      "11     \n",
      "13     \n",
      "17     \n",
      "19     \n",
      "23     \n",
      "29 \n",
      "31     \n",
      "37     \n",
      "41     \n",
      "43     \n",
      "47     \n",
      "53     \n",
      "59     \n",
      "61     \n",
      "67     \n",
      "71 \n",
      "73     \n",
      "79     \n",
      "83     \n",
      "89     \n",
      "97 \n"
     ]
    }
   ],
   "source": [
    "!type primes.txt \n",
    "# to show the text stored in the file saved in same directory as as this file\n",
    "# cat has been deprecated\n"
   ]
  },
  {
   "cell_type": "code",
   "execution_count": 21,
   "metadata": {},
   "outputs": [
    {
     "name": "stdout",
     "output_type": "stream",
     "text": [
      "[ 2.  3.  5.  7. 11. 13. 17. 19. 23. 29. 31. 37. 41. 43. 47. 53. 59. 61.\n",
      " 67. 71. 73. 79. 83. 89. 97.]\n"
     ]
    }
   ],
   "source": [
    "primes = pb.loadtxt('primes.txt')\n",
    "print(primes)"
   ]
  },
  {
   "cell_type": "code",
   "execution_count": 22,
   "metadata": {},
   "outputs": [
    {
     "name": "stdout",
     "output_type": "stream",
     "text": [
      "1.0000e-01 6.9004e-01\n",
      "1.1000e-01 6.9497e-01\n",
      "1.2000e-01 7.4252e-01\n",
      "1.3000e-01 7.5360e-01\n",
      "1.4000e-01 8.3568e-01\n",
      "1.5000e-01 8.6789e-01\n",
      "1.6000e-01 8.4182e-01\n",
      "1.7000e-01 8.5379e-01\n",
      "1.8000e-01 8.5762e-01\n",
      "1.9000e-01 8.8390e-01\n"
     ]
    }
   ],
   "source": [
    "! type pendulum.txt"
   ]
  },
  {
   "cell_type": "code",
   "execution_count": 23,
   "metadata": {},
   "outputs": [],
   "source": [
    "Tpend = pb.loadtxt('pendulum.txt')"
   ]
  },
  {
   "cell_type": "code",
   "execution_count": 24,
   "metadata": {},
   "outputs": [
    {
     "name": "stdout",
     "output_type": "stream",
     "text": [
      "[[0.1     0.69004]\n",
      " [0.11    0.69497]\n",
      " [0.12    0.74252]\n",
      " [0.13    0.7536 ]\n",
      " [0.14    0.83568]\n",
      " [0.15    0.86789]\n",
      " [0.16    0.84182]\n",
      " [0.17    0.85379]\n",
      " [0.18    0.85762]\n",
      " [0.19    0.8839 ]]\n"
     ]
    }
   ],
   "source": [
    "print(pend)"
   ]
  },
  {
   "cell_type": "code",
   "execution_count": 26,
   "metadata": {},
   "outputs": [],
   "source": [
    "L, T = pb.loadtxt('pendulum.txt',unpack = True)"
   ]
  },
  {
   "cell_type": "code",
   "execution_count": 27,
   "metadata": {},
   "outputs": [
    {
     "name": "stdout",
     "output_type": "stream",
     "text": [
      "[0.1  0.11 0.12 0.13 0.14 0.15 0.16 0.17 0.18 0.19]\n"
     ]
    }
   ],
   "source": [
    "print(L)"
   ]
  },
  {
   "cell_type": "code",
   "execution_count": 28,
   "metadata": {},
   "outputs": [
    {
     "name": "stdout",
     "output_type": "stream",
     "text": [
      "[0.69004 0.69497 0.74252 0.7536  0.83568 0.86789 0.84182 0.85379 0.85762\n",
      " 0.8839 ]\n"
     ]
    }
   ],
   "source": [
    "print(T)"
   ]
  },
  {
   "cell_type": "code",
   "execution_count": 30,
   "metadata": {},
   "outputs": [
    {
     "name": "stdout",
     "output_type": "stream",
     "text": [
      "1.0000e-01;6.9004e-01\n",
      "1.1000e-01;6.9497e-01\n",
      "1.2000e-01;7.4252e-01\n",
      "1.3000e-01;7.5360e-01\n",
      "1.4000e-01;8.3568e-01\n",
      "1.5000e-01;8.6789e-01\n",
      "1.6000e-01;8.4182e-01\n",
      "1.7000e-01;8.5379e-01\n",
      "1.8000e-01;8.5762e-01\n",
      "1.9000e-01;8.8390e-01\n"
     ]
    }
   ],
   "source": [
    "# Assignment\n",
    "! type pendulum_semicolon.txt"
   ]
  },
  {
   "cell_type": "code",
   "execution_count": 38,
   "metadata": {},
   "outputs": [],
   "source": [
    "P, A = pb.loadtxt(\"pendulum_semicolon.txt\",unpack = True,delimiter=';') # if you have any delimiter other than space you should use delimiter to seprate"
   ]
  },
  {
   "cell_type": "code",
   "execution_count": 39,
   "metadata": {},
   "outputs": [
    {
     "name": "stdout",
     "output_type": "stream",
     "text": [
      "[0.1  0.11 0.12 0.13 0.14 0.15 0.16 0.17 0.18 0.19]\n"
     ]
    }
   ],
   "source": [
    "print(P)"
   ]
  },
  {
   "cell_type": "code",
   "execution_count": 40,
   "metadata": {},
   "outputs": [
    {
     "name": "stdout",
     "output_type": "stream",
     "text": [
      "[0.69004 0.69497 0.74252 0.7536  0.83568 0.86789 0.84182 0.85379 0.85762\n",
      " 0.8839 ]\n"
     ]
    }
   ],
   "source": [
    "print(A)"
   ]
  },
  {
   "cell_type": "code",
   "execution_count": 41,
   "metadata": {},
   "outputs": [],
   "source": [
    "# Assignment\n",
    "#1. loadtxt() can read data only from a file with one column. Is it True or False? : Ans: False\n",
    "#2. Given a file “data.txt” with three columns of data separated by spaces. Read it into 3 separate simple \n",
    "#sequences. : Ans: pb.loadtxt(\"data.txt\",unpack = True,delimiter = \" \")\n",
    "#. Given a file “data.txt” with three columns of data separated by “:”. Read it into 3 separate simple \n",
    "#sequences : Ans: pb.loadtxt(\"data.txt\",unpack = True,delimiter = \":\")"
   ]
  },
  {
   "cell_type": "code",
   "execution_count": null,
   "metadata": {},
   "outputs": [],
   "source": []
  }
 ],
 "metadata": {
  "kernelspec": {
   "display_name": "Python 3",
   "language": "python",
   "name": "python3"
  },
  "language_info": {
   "codemirror_mode": {
    "name": "ipython",
    "version": 3
   },
   "file_extension": ".py",
   "mimetype": "text/x-python",
   "name": "python",
   "nbconvert_exporter": "python",
   "pygments_lexer": "ipython3",
   "version": "3.8.3"
  }
 },
 "nbformat": 4,
 "nbformat_minor": 4
}
