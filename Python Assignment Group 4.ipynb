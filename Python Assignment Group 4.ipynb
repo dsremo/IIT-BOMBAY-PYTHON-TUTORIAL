{
 "cells": [
  {
   "cell_type": "markdown",
   "metadata": {},
   "source": [
    "# Lagranges Interpolation Method"
   ]
  },
  {
   "cell_type": "code",
   "execution_count": 1,
   "metadata": {},
   "outputs": [
    {
     "name": "stdout",
     "output_type": "stream",
     "text": [
      "value at x0: 12.0\n"
     ]
    }
   ],
   "source": [
    "#https://www.epythonguru.com/2020/10/newton-interpolation-method-python.html\n",
    "from math import *\n",
    "def lagrange_interpolation(x,y,u):\n",
    "    r = range(len(y))\n",
    "    a = [y[i]/product(x[i]-x[j]for j in r if j!=i)for i in r]\n",
    "    return sum(a[i]*product([u-x[j]for j in r if j!=i])for i in r)\n",
    "def product(a):\n",
    "    p = 1\n",
    "    for i in a:p*=i\n",
    "    return p\n",
    "x = [0,1,2,5]\n",
    "y =[2,3,12,147]\n",
    "x0 = 2\n",
    "esti = lagrange_interpolation(x,y,x0)\n",
    "print(\"value at x0:\",esti)"
   ]
  },
  {
   "cell_type": "markdown",
   "metadata": {},
   "source": [
    "# Newton divided difference formula"
   ]
  },
  {
   "cell_type": "code",
   "execution_count": 2,
   "metadata": {},
   "outputs": [
    {
     "name": "stdout",
     "output_type": "stream",
     "text": [
      "12 \t 1.0 \t -0.1667 \t 0.05 \t \n",
      "13 \t 0.3333 \t 0.1333 \t \n",
      "14 \t 1.0 \t \n",
      "16 \t \n",
      "\n",
      "Value at 7 is 13.47\n"
     ]
    }
   ],
   "source": [
    "# Python3 program for implementing\n",
    "# https://www.geeksforgeeks.org/newtons-divided-difference-interpolation-formula/\n",
    "# Newton divided difference formula\n",
    "\n",
    "# Function to find the product term\n",
    "def proterm(i, value, x):\n",
    "\tpro = 1;\n",
    "\tfor j in range(i):\n",
    "\t\tpro = pro * (value - x[j]);\n",
    "\treturn pro;\n",
    "\n",
    "# Function for calculating\n",
    "# divided difference table\n",
    "def dividedDiffTable(x, y, n):\n",
    "\n",
    "\tfor i in range(1, n):\n",
    "\t\tfor j in range(n - i):\n",
    "\t\t\ty[j][i] = ((y[j][i - 1] - y[j + 1][i - 1]) /\n",
    "\t\t\t\t\t\t\t\t\t(x[j] - x[i + j]));\n",
    "\treturn y;\n",
    "\n",
    "# Function for applying Newton's\n",
    "# divided difference formula\n",
    "def applyFormula(value, x, y, n):\n",
    "\n",
    "\tsum = y[0][0];\n",
    "\n",
    "\tfor i in range(1, n):\n",
    "\t\tsum = sum + (proterm(i, value, x) * y[0][i]);\n",
    "\t\n",
    "\treturn sum;\n",
    "\n",
    "# Function for displaying divided\n",
    "# difference table\n",
    "def printDiffTable(y, n):\n",
    "\n",
    "\tfor i in range(n):\n",
    "\t\tfor j in range(n - i):\n",
    "\t\t\tprint(round(y[i][j], 4), \"\\t\",\n",
    "\t\t\t\t\t\t\tend = \" \");\n",
    "\n",
    "\t\tprint(\"\");\n",
    "\n",
    "# Driver Code\n",
    "\n",
    "# number of inputs given\n",
    "n = 4;\n",
    "y = [[0 for i in range(10)]\n",
    "\t\tfor j in range(10)];\n",
    "x = [ 5, 6, 9, 11 ];\n",
    "\n",
    "# y[][] is used for divided difference\n",
    "# table where y[][0] is used for input\n",
    "y[0][0] = 12;\n",
    "y[1][0] = 13;\n",
    "y[2][0] = 14;\n",
    "y[3][0] = 16;\n",
    "\n",
    "# calculating divided difference table\n",
    "y=dividedDiffTable(x, y, n);\n",
    "\n",
    "# displaying divided difference table\n",
    "printDiffTable(y, n);\n",
    "\n",
    "# value to be interpolated\n",
    "value = 7;\n",
    "\n",
    "# printing the value\n",
    "print(\"\\nValue at\", value, \"is\",\n",
    "\t\tround(applyFormula(value, x, y, n), 2))\n",
    "\n",
    "# This code is contributed by mits\n"
   ]
  },
  {
   "cell_type": "markdown",
   "metadata": {},
   "source": [
    "# Eigenvalues and Eigenvectors"
   ]
  },
  {
   "cell_type": "code",
   "execution_count": 7,
   "metadata": {},
   "outputs": [],
   "source": [
    "import numpy as np\n",
    "from numpy.linalg import eig\n",
    "# https://pythonnumericalmethods.berkeley.edu/notebooks/chapter15.04-Eigenvalues-and-Eigenvectors-in-Python.html#:~:text=Eigenvalues%20and%20Eigenvectors%20in%20Python%20Though%20the%20methods,square%20array%20is%20the%20eig%20function%20in%20numpy.linalg.\n"
   ]
  },
  {
   "cell_type": "code",
   "execution_count": 4,
   "metadata": {},
   "outputs": [
    {
     "name": "stdout",
     "output_type": "stream",
     "text": [
      "E-value [-1.  4.]\n",
      "E-vector [[-0.89442719 -0.4472136 ]\n",
      " [ 0.4472136  -0.89442719]]\n"
     ]
    }
   ],
   "source": [
    "a = np.array([[0,2],\n",
    "            [2,3]])\n",
    "w,v = eig(a)\n",
    "print('E-value',w)\n",
    "print('E-vector',v)\n"
   ]
  },
  {
   "cell_type": "code",
   "execution_count": 6,
   "metadata": {},
   "outputs": [
    {
     "name": "stdout",
     "output_type": "stream",
     "text": [
      "E-value: [ 8.80916362  0.92620912 -0.73537273]\n",
      "E-vector [[-0.52799324 -0.77557092 -0.36272811]\n",
      " [-0.604391    0.62277013 -0.7103262 ]\n",
      " [-0.59660259 -0.10318482  0.60321224]]\n"
     ]
    }
   ],
   "source": [
    "a = np.array([[2,2,4],\n",
    "             [1,3,5],\n",
    "             [2,3,4]])\n",
    "w,v = eig(a)\n",
    "print('E-value:',w)\n",
    "print('E-vector',v)"
   ]
  },
  {
   "cell_type": "code",
   "execution_count": null,
   "metadata": {},
   "outputs": [],
   "source": []
  }
 ],
 "metadata": {
  "kernelspec": {
   "display_name": "Python 3",
   "language": "python",
   "name": "python3"
  },
  "language_info": {
   "codemirror_mode": {
    "name": "ipython",
    "version": 3
   },
   "file_extension": ".py",
   "mimetype": "text/x-python",
   "name": "python",
   "nbconvert_exporter": "python",
   "pygments_lexer": "ipython3",
   "version": "3.8.3"
  }
 },
 "nbformat": 4,
 "nbformat_minor": 4
}
